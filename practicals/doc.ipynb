{
 "cells": [
  {
   "cell_type": "code",
   "execution_count": 9,
   "id": "c9661de0",
   "metadata": {},
   "outputs": [
    {
     "name": "stdout",
     "output_type": "stream",
     "text": [
      "bachelor of arts: english\r\n",
      "minor in communication \r\n",
      "\r\n",
      "work experience\r\n",
      "lecturer in creative writing: fiction | royal holloway university of london - egham, england \t\t 10/2020 - current \r\n",
      "marked quizzes, tests, homework and projects for 50 students to provide timely academic progress information and feedback. \r\n",
      "encouraged class discussions by building 10 debates per month into lessons, actively soliciting input, asking open-ended questions and using techniques to track student participation. \r\n",
      "used a variety of creative learning modalities and support materials to facilitate learning process and accentuate up to 20 presentations per term. \r\n",
      "staff writer and content creator | fever - london, england \t 09/2019 - 10/2020 \r\n",
      "edited 30 creative projects and offered feedback. \r\n",
      "developed informative yet entertaining blog posts that boosted visitors to website by 30% within three months. \r\n",
      "helped shape narrative on key issues through effective storytelling and knowledge of public opinion. \r\n",
      "copywriter brand & creative | ph. creative - london, england \t 01/2017 - 08/2019 \r\n",
      "provided editorial guidance to marketing team devoted to delivery of top-quality content. \r\n",
      "authored online copy for ads displays, providing click conversion rates of 12% for leads generation landing page. \r\n",
      "participated in 15 internal interdisciplinary efforts to produce deliverables featuring diverse media content. \r\n",
      "\r\n",
      "research experience\r\n",
      "explored and analysed ethics in the publishing system in \"the author's property\" (2020) \r\n",
      "worked and participated in thesis assessment as research lead in \"the impact of english literature in contemporary culture\" (2019) \r\n",
      "developed research statements and ran surveys and interviews as research assistant in \"the writer's role in literature\" (2018) \r\n",
      "\r\n",
      "publications\r\n",
      "williams, ella. culture,diversity and english, 1st ed., vol. 1, california, fulton books, 2021. \r\n",
      "williams, e. \"an historical review of the english literature's impact in urban culture.\" the english historical review , vol. 86, no. 90, 2019, pp.118-25 \r\n",
      "williams, e. \"women in literature: limitations and power.\" writer's digest, vel. 90.5, no. 50, 2018, pp. 110-26. \r\n",
      "\r\n",
      "conferences attendance\r\n",
      "urban writing vs classical approach (2021) \r\n",
      "fundamentals of contemporary writing (2020) \r\n",
      "literature in business: then and now (2019) \r\n",
      "english and culture (2018) \r\n",
      "\r\n",
      "honours and awards\r\n",
      "london writers awards, literary fiction (2021) \r\n",
      "the john and patricia beatty award (2019) \r\n",
      "\r\n",
      "professional affiliations\r\n",
      "contemporary writers (2021) \r\n",
      "author's licensing and collecting society (2020-present) \r\n",
      "modern humanities research association (2019) \r\n",
      "\r\n",
      "certifications\r\n",
      "qualified teacher status (qts) (2019) \r\n",
      "\r\n",
      "teaching experience\r\n",
      "digital rhetoric, royal holloway university (2021) \r\n",
      "composition studies, london metropolitan university(2019) \r\n",
      "english literature, university of london (2018) \r\n",
      "\r\n",
      "professional relevant skills\r\n",
      "libreoffice \r\n",
      "ms office, including word and powerpoint \r\n",
      "content management systems (cms) \r\n",
      "adobe photoshop \r\n",
      "\r\n",
      "hobbies and interests\r\n",
      "digital photography \r\n",
      "volunteer art tutor for young adults in community centre \r\n",
      "\r\n",
      "portfolio\r\n",
      "gradstudent@example1.com \r\n",
      "\r\n",
      "\r\n",
      "\n"
     ]
    }
   ],
   "source": [
    "import urllib.request\n",
    "# import library urllib.request module which defines functions and classes which helps with opening URLs\n",
    "\n",
    "# store the public URL of drive \n",
    "book_url ='https://drive.google.com/uc?id=1tg00OhNERKQOYgP-2kCIG6eGjyDFkzZk' \n",
    "\n",
    "#Fetch the contents of the drive file\n",
    "book = list(urllib.request.urlopen(book_url)) \n",
    "\n",
    "# Decode the lines and strip line endings.\n",
    "book = [line.decode('utf-8-sig') for line in book]\n",
    "\n",
    "#paragraph = ' '.join(book[5:88])\n",
    "\n",
    "paragraph = ''.join(book[26:]).lower()\n",
    "# Let's lower-case it.\n",
    "#lower = paragraph.lower()\n",
    "\n",
    "# All letters and a space.\n",
    "chars = 'abcdefghijklmnopqrstuvwxyz '\n",
    "\n",
    "# And strip anything that is not a letter or space.\n",
    "lower = ''.join([c for c in lower if c in chars])\n",
    "\n",
    "# Show the paragraph now.\n",
    "print(paragraph)"
   ]
  },
  {
   "cell_type": "code",
   "execution_count": 10,
   "id": "babc6e22",
   "metadata": {},
   "outputs": [
    {
     "name": "stdout",
     "output_type": "stream",
     "text": [
      "['personal', 'statement', 'dedicated', 'graduated', 'student', 'bringing', 'proven', 'success', 'in', 'implementing', 'innovation', 'writing', 'techniques', 'and', 'assessment', 'tools', 'passionate', 'about', 'fostering', 'creativity', 'academic', 'development', 'and', 'professional', 'success', 'collaborative', 'team', 'player', 'possessing', 'impeccable', 'grammar', 'skilled', 'at', 'explaining', 'material', 'and', 'concepts', 'to', 'address', 'varied', 'markets', 'and', 'modalities', 'core', 'qualifications', 'content', 'creation', 'academic', 'advisement', 'proofreading', 'public', 'opinion', 'understanding', 'creative', 'teaching', 'techniques', 'digital', 'media', 'assertive', 'multitasking', 'abilities', 'education', 'royal', 'college', 'of', 'arts', 'england', 'expected', 'in', 'phd', 'arts', 'and', 'humanities', 'london', 'metropolitan', 'university', 'london', 'post', 'masters', 'certificate', 'education', 'london', 'metropolitan', 'university', 'england', 'master', 'of', 'arts', 'creative', 'digital', 'and', 'professional', 'writing', 'university', 'of', 'london', 'england', 'bachelor', 'of', 'arts', 'english', 'minor', 'in', 'communication', 'work', 'experience', 'lecturer', 'in', 'creative', 'writing', 'fiction', 'royal', 'holloway', 'university', 'of', 'london', 'egham', 'england', 'current', 'marked', 'quizzes', 'tests', 'homework', 'and', 'projects', 'for', 'students', 'to', 'provide', 'timely', 'academic', 'progress', 'information', 'and', 'feedback', 'encouraged', 'class', 'discussions', 'by', 'building', 'debates', 'per', 'month', 'into', 'lessons', 'actively', 'soliciting', 'input', 'asking', 'openended', 'questions', 'and', 'using', 'techniques', 'to', 'track', 'student', 'participation', 'used', 'a', 'variety', 'of', 'creative', 'learning', 'modalities', 'and', 'support', 'materials', 'to', 'facilitate', 'learning', 'process', 'and', 'accentuate', 'up', 'to', 'presentations', 'per', 'term', 'staff', 'writer', 'and', 'content', 'creator', 'fever', 'london', 'england', 'edited', 'creative', 'projects', 'and', 'offered', 'feedback', 'developed', 'informative', 'yet', 'entertaining', 'blog', 'posts', 'that', 'boosted', 'visitors', 'to', 'website', 'by', 'within', 'three', 'months', 'helped', 'shape', 'narrative', 'on', 'key', 'issues', 'through', 'effective', 'storytelling', 'and', 'knowledge', 'of', 'public', 'opinion', 'copywriter', 'brand', 'creative', 'ph', 'creative', 'london', 'england', 'provided', 'editorial', 'guidance', 'to', 'marketing', 'team', 'devoted', 'to', 'delivery', 'of', 'topquality', 'content', 'authored', 'online', 'copy', 'for', 'ads', 'displays', 'providing', 'click', 'conversion', 'rates', 'of', 'for', 'leads', 'generation', 'landing', 'page', 'participated', 'in', 'internal', 'interdisciplinary', 'efforts', 'to', 'produce', 'deliverables', 'featuring', 'diverse', 'media', 'content', 'research', 'experience', 'explored', 'and', 'analysed', 'ethics', 'in', 'the', 'publishing', 'system', 'in', 'the', 'authors', 'property', 'worked', 'and', 'participated', 'in', 'thesis', 'assessment', 'as', 'research', 'lead', 'in', 'the', 'impact', 'of', 'english', 'literature', 'in', 'contemporary', 'culture', 'developed', 'research', 'statements', 'and', 'ran', 'surveys', 'and', 'interviews', 'as', 'research', 'assistant', 'in', 'the', 'writers', 'role', 'in', 'literature', 'publications', 'williams', 'ella', 'culturediversity', 'and', 'english', 'st', 'ed', 'vol', 'california', 'fulton', 'books', 'williams', 'e', 'an', 'historical', 'review', 'of', 'the', 'english', 'literatures', 'impact', 'in', 'urban', 'culture', 'the', 'english', 'historical', 'review', 'vol', 'no', 'pp', 'williams', 'e', 'women', 'in', 'literature', 'limitations', 'and', 'power', 'writers', 'digest', 'vel', 'no', 'pp', 'conferences', 'attendance', 'urban', 'writing', 'vs', 'classical', 'approach', 'fundamentals', 'of', 'contemporary', 'writing', 'literature', 'in', 'business', 'then', 'and', 'now', 'english', 'and', 'culture', 'honours', 'and', 'awards', 'london', 'writers', 'awards', 'literary', 'fiction', 'the', 'john', 'and', 'patricia', 'beatty', 'award', 'professional', 'affiliations', 'contemporary', 'writers', 'authors', 'licensing', 'and', 'collecting', 'society', 'present', 'modern', 'humanities', 'research', 'association', 'certifications', 'qualified', 'teacher', 'status', 'qts', 'teaching', 'experience', 'digital', 'rhetoric', 'royal', 'holloway', 'university', 'composition', 'studies', 'london', 'metropolitan', 'university', 'english', 'literature', 'university', 'of', 'london', 'professional', 'relevant', 'skills', 'libreoffice', 'ms', 'office', 'including', 'word', 'and', 'powerpoint', 'content', 'management', 'systems', 'cms', 'adobe', 'photoshop', 'hobbies', 'and', 'interests', 'digital', 'photography', 'volunteer', 'art', 'tutor', 'for', 'young', 'adults', 'in', 'community', 'centre', 'portfolio', 'gradstudentexamplecom']\n"
     ]
    },
    {
     "name": "stderr",
     "output_type": "stream",
     "text": [
      "[nltk_data] Downloading package punkt to C:\\Users\\Catriona\n",
      "[nltk_data]     Murray\\AppData\\Roaming\\nltk_data...\n",
      "[nltk_data]   Package punkt is already up-to-date!\n"
     ]
    }
   ],
   "source": [
    "#Provide a common algorithms such as tokenizing, part-of-speech tagging\n",
    "import nltk \n",
    "#Allows you to tokenize text \n",
    "nltk.download('punkt')\n",
    "# Import word_tokenize() function from tokenize of the nltk module using the import keyword\n",
    "from nltk.tokenize import word_tokenize\n",
    "# For the entire CV make a list of each word \n",
    "word_tokens = word_tokenize(lower)\n",
    "print(word_tokens)"
   ]
  },
  {
   "cell_type": "code",
   "execution_count": 12,
   "id": "c120f21b",
   "metadata": {},
   "outputs": [
    {
     "name": "stdout",
     "output_type": "stream",
     "text": [
      "<FreqDist with 288 samples and 465 outcomes>\n"
     ]
    }
   ],
   "source": [
    "from nltk.probability import FreqDist\n",
    "# get the frequent distribution of the file\n",
    "fdist = FreqDist(word_tokens)\n",
    "print(fdist)"
   ]
  },
  {
   "cell_type": "code",
   "execution_count": 16,
   "id": "495c0fa8",
   "metadata": {},
   "outputs": [
    {
     "data": {
      "text/plain": [
       "[('and', 27),\n",
       " ('in', 16),\n",
       " ('of', 13),\n",
       " ('london', 10),\n",
       " ('to', 9),\n",
       " ('creative', 7),\n",
       " ('university', 7),\n",
       " ('english', 7),\n",
       " ('the', 7),\n",
       " ('england', 6),\n",
       " ('writing', 5),\n",
       " ('content', 5),\n",
       " ('research', 5),\n",
       " ('literature', 5),\n",
       " ('professional', 4),\n",
       " ('digital', 4),\n",
       " ('arts', 4),\n",
       " ('for', 4),\n",
       " ('writers', 4),\n",
       " ('techniques', 3)]"
      ]
     },
     "execution_count": 16,
     "metadata": {},
     "output_type": "execute_result"
    }
   ],
   "source": [
    "fdist.most_common(20)\n",
    "# get the 20 most common words"
   ]
  },
  {
   "cell_type": "code",
   "execution_count": null,
   "id": "6858d3e4",
   "metadata": {},
   "outputs": [],
   "source": []
  },
  {
   "cell_type": "code",
   "execution_count": 52,
   "id": "4624c7ea",
   "metadata": {},
   "outputs": [
    {
     "name": "stdout",
     "output_type": "stream",
     "text": [
      "['personal', 'statement', 'dedicated', 'graduated', 'student', 'bringing', 'proven', 'success', 'implementing', 'innovation', 'writing', 'techniques', 'assessment', 'tools', 'passionate', 'fostering', 'creativity', 'academic', 'development', 'professional', 'success', 'collaborative', 'team', 'player', 'possessing', 'impeccable', 'grammar', 'skilled', 'explaining', 'material', 'concepts', 'address', 'varied', 'markets', 'modalities', 'core', 'qualifications', 'content', 'creation', 'academic', 'advisement', 'proofreading', 'public', 'opinion', 'understanding', 'creative', 'teaching', 'techniques', 'digital', 'media', 'assertive', 'multitasking', 'abilities', 'education', 'royal', 'college', 'arts', 'england', 'expected', 'phd', 'arts', 'humanities', 'london', 'metropolitan', 'university', 'london', 'post', 'masters', 'certificate', 'education', 'london', 'metropolitan', 'university', 'england', 'master', 'arts', 'creative', 'digital', 'professional', 'writing', 'university', 'london', 'england', 'bachelor', 'arts', 'english', 'minor', 'communication', 'work', 'experience', 'lecturer', 'creative', 'writing', 'fiction', 'royal', 'holloway', 'university', 'london', 'egham', 'england', 'current', 'marked', 'quizzes', 'tests', 'homework', 'projects', 'students', 'provide', 'timely', 'academic', 'progress', 'information', 'feedback', 'encouraged', 'class', 'discussions', 'building', 'debates', 'per', 'month', 'lessons', 'actively', 'soliciting', 'input', 'asking', 'openended', 'questions', 'using', 'techniques', 'track', 'student', 'participation', 'used', 'variety', 'creative', 'learning', 'modalities', 'support', 'materials', 'facilitate', 'learning', 'process', 'accentuate', 'presentations', 'per', 'term', 'staff', 'writer', 'content', 'creator', 'fever', 'london', 'england', 'edited', 'creative', 'projects', 'offered', 'feedback', 'developed', 'informative', 'yet', 'entertaining', 'blog', 'posts', 'boosted', 'visitors', 'website', 'within', 'three', 'months', 'helped', 'shape', 'narrative', 'key', 'issues', 'effective', 'storytelling', 'knowledge', 'public', 'opinion', 'copywriter', 'brand', 'creative', 'ph', 'creative', 'london', 'england', 'provided', 'editorial', 'guidance', 'marketing', 'team', 'devoted', 'delivery', 'topquality', 'content', 'authored', 'online', 'copy', 'ads', 'displays', 'providing', 'click', 'conversion', 'rates', 'leads', 'generation', 'landing', 'page', 'participated', 'internal', 'interdisciplinary', 'efforts', 'produce', 'deliverables', 'featuring', 'diverse', 'media', 'content', 'research', 'experience', 'explored', 'analysed', 'ethics', 'publishing', 'system', 'authors', 'property', 'worked', 'participated', 'thesis', 'assessment', 'research', 'lead', 'impact', 'english', 'literature', 'contemporary', 'culture', 'developed', 'research', 'statements', 'ran', 'surveys', 'interviews', 'research', 'assistant', 'writers', 'role', 'literature', 'publications', 'williams', 'ella', 'culturediversity', 'english', 'st', 'ed', 'vol', 'california', 'fulton', 'books', 'williams', 'e', 'historical', 'review', 'english', 'literatures', 'impact', 'urban', 'culture', 'english', 'historical', 'review', 'vol', 'pp', 'williams', 'e', 'women', 'literature', 'limitations', 'power', 'writers', 'digest', 'vel', 'pp', 'conferences', 'attendance', 'urban', 'writing', 'vs', 'classical', 'approach', 'fundamentals', 'contemporary', 'writing', 'literature', 'business', 'english', 'culture', 'honours', 'awards', 'london', 'writers', 'awards', 'literary', 'fiction', 'john', 'patricia', 'beatty', 'award', 'professional', 'affiliations', 'contemporary', 'writers', 'authors', 'licensing', 'collecting', 'society', 'present', 'modern', 'humanities', 'research', 'association', 'certifications', 'qualified', 'teacher', 'status', 'qts', 'teaching', 'experience', 'digital', 'rhetoric', 'royal', 'holloway', 'university', 'composition', 'studies', 'london', 'metropolitan', 'university', 'english', 'literature', 'university', 'london', 'professional', 'relevant', 'skills', 'libreoffice', 'ms', 'office', 'including', 'word', 'powerpoint', 'content', 'management', 'systems', 'cms', 'adobe', 'photoshop', 'hobbies', 'interests', 'digital', 'photography', 'volunteer', 'art', 'tutor', 'young', 'adults', 'community', 'centre', 'portfolio', 'gradstudentexamplecom']\n"
     ]
    },
    {
     "name": "stderr",
     "output_type": "stream",
     "text": [
      "[nltk_data] Downloading package stopwords to C:\\Users\\Catriona\n",
      "[nltk_data]     Murray\\AppData\\Roaming\\nltk_data...\n",
      "[nltk_data]   Package stopwords is already up-to-date!\n"
     ]
    }
   ],
   "source": [
    "# download and import the use of the stopword which are the most frequent words in a language\n",
    "nltk.download('stopwords')\n",
    "from nltk.corpus import stopwords\n",
    "example = word_tokens\n",
    "# Take in the stopwords from the English language\n",
    "stop_words = set(stopwords.words('english')) \n",
    "# Remove all stopwords from the file\n",
    "filtered_sentence = [w for w in example if not w in stop_words]\n",
    "print(filtered_sentence)"
   ]
  },
  {
   "cell_type": "code",
   "execution_count": 17,
   "id": "f01488c5",
   "metadata": {},
   "outputs": [
    {
     "name": "stdout",
     "output_type": "stream",
     "text": [
      "personal statement dedicated graduated student bringing proven success in implementing innovation writing techniques and assessment tools passionate about fostering creativity academic development and professional success collaborative team player possessing impeccable grammar skilled at explaining material and concepts to address varied markets and modalities  core qualifications content creation academic advisement proofreading public opinion understanding creative teaching techniques digital media assertive multitasking abilities  education royal college of arts  england  expected in  phd arts and humanities london metropolitan university  london   post masters certificate education london metropolitan university  england   master of arts creative digital and professional writing university of london  england   bachelor of arts english minor in communication  work experience lecturer in creative writing fiction  royal holloway university of london  egham england    current marked quizzes tests homework and projects for  students to provide timely academic progress information and feedback encouraged class discussions by building  debates per month into lessons actively soliciting input asking openended questions and using techniques to track student participation used a variety of creative learning modalities and support materials to facilitate learning process and accentuate up to  presentations per term staff writer and content creator  fever  london england     edited  creative projects and offered feedback developed informative yet entertaining blog posts that boosted visitors to website by  within three months helped shape narrative on key issues through effective storytelling and knowledge of public opinion copywriter brand  creative  ph creative  london england     provided editorial guidance to marketing team devoted to delivery of topquality content authored online copy for ads displays providing click conversion rates of  for leads generation landing page participated in  internal interdisciplinary efforts to produce deliverables featuring diverse media content  research experience explored and analysed ethics in the publishing system in the authors property  worked and participated in thesis assessment as research lead in the impact of english literature in contemporary culture  developed research statements and ran surveys and interviews as research assistant in the writers role in literature   publications williams ella culturediversity and english st ed vol  california fulton books  williams e an historical review of the english literatures impact in urban culture the english historical review  vol  no   pp williams e women in literature limitations and power writers digest vel  no   pp   conferences attendance urban writing vs classical approach  fundamentals of contemporary writing  literature in business then and now  english and culture   honours and awards london writers awards literary fiction  the john and patricia beatty award   professional affiliations contemporary writers  authors licensing and collecting society present modern humanities research association   certifications qualified teacher status qts   teaching experience digital rhetoric royal holloway university  composition studies london metropolitan university english literature university of london   professional relevant skills libreoffice ms office including word and powerpoint content management systems cms adobe photoshop  hobbies and interests digital photography volunteer art tutor for young adults in community centre  portfolio gradstudentexamplecom\n"
     ]
    }
   ],
   "source": [
    "#Allow the use of regular expression\n",
    "import re\n",
    "#remove , from text and show letters only\n",
    "raw_text = lower\n",
    "letters_only_text = re.sub(\"[^a-zA-Z]\", \" \", raw_text)\n",
    "\n",
    "#keep numbers\n",
    "letnum_text =  re.sub(\"[^a-zA-Z0-9\\s]+\", \" \",raw_text )\n",
    "print(letnum_text)"
   ]
  },
  {
   "cell_type": "code",
   "execution_count": 68,
   "id": "93b38e2c",
   "metadata": {},
   "outputs": [
    {
     "name": "stdout",
     "output_type": "stream",
     "text": [
      "bigrams\n",
      "\n",
      "[('personal', 'statement'), ('statement', 'dedicated'), ('dedicated', 'graduated'), ('graduated', 'student'), ('student', 'bringing'), ('bringing', 'proven'), ('proven', 'success'), ('success', 'in'), ('in', 'implementing'), ('implementing', 'innovation'), ('innovation', 'writing'), ('writing', 'techniques'), ('techniques', 'and'), ('and', 'assessment'), ('assessment', 'tools'), ('tools', 'passionate'), ('passionate', 'about'), ('about', 'fostering'), ('fostering', 'creativity'), ('creativity', 'academic'), ('academic', 'development'), ('development', 'and'), ('and', 'professional'), ('professional', 'success'), ('success', 'collaborative'), ('collaborative', 'team'), ('team', 'player'), ('player', 'possessing'), ('possessing', 'impeccable'), ('impeccable', 'grammar'), ('grammar', 'skilled'), ('skilled', 'at'), ('at', 'explaining'), ('explaining', 'material'), ('material', 'and'), ('and', 'concepts'), ('concepts', 'to'), ('to', 'address'), ('address', 'varied'), ('varied', 'markets'), ('markets', 'and'), ('and', 'modalities'), ('modalities', 'core'), ('core', 'qualifications'), ('qualifications', 'content'), ('content', 'creation'), ('creation', 'academic'), ('academic', 'advisement'), ('advisement', 'proofreading'), ('proofreading', 'public'), ('public', 'opinion'), ('opinion', 'understanding'), ('understanding', 'creative'), ('creative', 'teaching'), ('teaching', 'techniques'), ('techniques', 'digital'), ('digital', 'media'), ('media', 'assertive'), ('assertive', 'multitasking'), ('multitasking', 'abilities'), ('abilities', 'education'), ('education', 'royal'), ('royal', 'college'), ('college', 'of'), ('of', 'arts'), ('arts', 'england'), ('england', 'expected'), ('expected', 'in'), ('in', 'phd'), ('phd', 'arts'), ('arts', 'and'), ('and', 'humanities'), ('humanities', 'london'), ('london', 'metropolitan'), ('metropolitan', 'university'), ('university', 'london'), ('london', 'post'), ('post', 'masters'), ('masters', 'certificate'), ('certificate', 'education'), ('education', 'london'), ('london', 'metropolitan'), ('metropolitan', 'university'), ('university', 'england'), ('england', 'master'), ('master', 'of'), ('of', 'arts'), ('arts', 'creative'), ('creative', 'digital'), ('digital', 'and'), ('and', 'professional'), ('professional', 'writing'), ('writing', 'university'), ('university', 'of'), ('of', 'london'), ('london', 'england'), ('england', 'bachelor'), ('bachelor', 'of'), ('of', 'arts'), ('arts', 'english'), ('english', 'minor'), ('minor', 'in'), ('in', 'communication'), ('communication', 'work'), ('work', 'experience'), ('experience', 'lecturer'), ('lecturer', 'in'), ('in', 'creative'), ('creative', 'writing'), ('writing', 'fiction'), ('fiction', 'royal'), ('royal', 'holloway'), ('holloway', 'university'), ('university', 'of'), ('of', 'london'), ('london', 'egham'), ('egham', 'england'), ('england', 'current'), ('current', 'marked'), ('marked', 'quizzes'), ('quizzes', 'tests'), ('tests', 'homework'), ('homework', 'and'), ('and', 'projects'), ('projects', 'for'), ('for', 'students'), ('students', 'to'), ('to', 'provide'), ('provide', 'timely'), ('timely', 'academic'), ('academic', 'progress'), ('progress', 'information'), ('information', 'and'), ('and', 'feedback'), ('feedback', 'encouraged'), ('encouraged', 'class'), ('class', 'discussions'), ('discussions', 'by'), ('by', 'building'), ('building', 'debates'), ('debates', 'per'), ('per', 'month'), ('month', 'into'), ('into', 'lessons'), ('lessons', 'actively'), ('actively', 'soliciting'), ('soliciting', 'input'), ('input', 'asking'), ('asking', 'openended'), ('openended', 'questions'), ('questions', 'and'), ('and', 'using'), ('using', 'techniques'), ('techniques', 'to'), ('to', 'track'), ('track', 'student'), ('student', 'participation'), ('participation', 'used'), ('used', 'a'), ('a', 'variety'), ('variety', 'of'), ('of', 'creative'), ('creative', 'learning'), ('learning', 'modalities'), ('modalities', 'and'), ('and', 'support'), ('support', 'materials'), ('materials', 'to'), ('to', 'facilitate'), ('facilitate', 'learning'), ('learning', 'process'), ('process', 'and'), ('and', 'accentuate'), ('accentuate', 'up'), ('up', 'to'), ('to', 'presentations'), ('presentations', 'per'), ('per', 'term'), ('term', 'staff'), ('staff', 'writer'), ('writer', 'and'), ('and', 'content'), ('content', 'creator'), ('creator', 'fever'), ('fever', 'london'), ('london', 'england'), ('england', 'edited'), ('edited', 'creative'), ('creative', 'projects'), ('projects', 'and'), ('and', 'offered'), ('offered', 'feedback'), ('feedback', 'developed'), ('developed', 'informative'), ('informative', 'yet'), ('yet', 'entertaining'), ('entertaining', 'blog'), ('blog', 'posts'), ('posts', 'that'), ('that', 'boosted'), ('boosted', 'visitors'), ('visitors', 'to'), ('to', 'website'), ('website', 'by'), ('by', 'within'), ('within', 'three'), ('three', 'months'), ('months', 'helped'), ('helped', 'shape'), ('shape', 'narrative'), ('narrative', 'on'), ('on', 'key'), ('key', 'issues'), ('issues', 'through'), ('through', 'effective'), ('effective', 'storytelling'), ('storytelling', 'and'), ('and', 'knowledge'), ('knowledge', 'of'), ('of', 'public'), ('public', 'opinion'), ('opinion', 'copywriter'), ('copywriter', 'brand'), ('brand', 'creative'), ('creative', 'ph'), ('ph', 'creative'), ('creative', 'london'), ('london', 'england'), ('england', 'provided'), ('provided', 'editorial'), ('editorial', 'guidance'), ('guidance', 'to'), ('to', 'marketing'), ('marketing', 'team'), ('team', 'devoted'), ('devoted', 'to'), ('to', 'delivery'), ('delivery', 'of'), ('of', 'topquality'), ('topquality', 'content'), ('content', 'authored'), ('authored', 'online'), ('online', 'copy'), ('copy', 'for'), ('for', 'ads'), ('ads', 'displays'), ('displays', 'providing'), ('providing', 'click'), ('click', 'conversion'), ('conversion', 'rates'), ('rates', 'of'), ('of', 'for'), ('for', 'leads'), ('leads', 'generation'), ('generation', 'landing'), ('landing', 'page'), ('page', 'participated'), ('participated', 'in'), ('in', 'internal'), ('internal', 'interdisciplinary'), ('interdisciplinary', 'efforts'), ('efforts', 'to'), ('to', 'produce'), ('produce', 'deliverables'), ('deliverables', 'featuring'), ('featuring', 'diverse'), ('diverse', 'media'), ('media', 'content'), ('content', 'research'), ('research', 'experience'), ('experience', 'explored'), ('explored', 'and'), ('and', 'analysed'), ('analysed', 'ethics'), ('ethics', 'in'), ('in', 'the'), ('the', 'publishing'), ('publishing', 'system'), ('system', 'in'), ('in', 'the'), ('the', 'authors'), ('authors', 'property'), ('property', 'worked'), ('worked', 'and'), ('and', 'participated'), ('participated', 'in'), ('in', 'thesis'), ('thesis', 'assessment'), ('assessment', 'as'), ('as', 'research'), ('research', 'lead'), ('lead', 'in'), ('in', 'the'), ('the', 'impact'), ('impact', 'of'), ('of', 'english'), ('english', 'literature'), ('literature', 'in'), ('in', 'contemporary'), ('contemporary', 'culture'), ('culture', 'developed'), ('developed', 'research'), ('research', 'statements'), ('statements', 'and'), ('and', 'ran'), ('ran', 'surveys'), ('surveys', 'and'), ('and', 'interviews'), ('interviews', 'as'), ('as', 'research'), ('research', 'assistant'), ('assistant', 'in'), ('in', 'the'), ('the', 'writers'), ('writers', 'role'), ('role', 'in'), ('in', 'literature'), ('literature', 'publications'), ('publications', 'williams'), ('williams', 'ella'), ('ella', 'culturediversity'), ('culturediversity', 'and'), ('and', 'english'), ('english', 'st'), ('st', 'ed'), ('ed', 'vol'), ('vol', 'california'), ('california', 'fulton'), ('fulton', 'books'), ('books', 'williams'), ('williams', 'e'), ('e', 'an'), ('an', 'historical'), ('historical', 'review'), ('review', 'of'), ('of', 'the'), ('the', 'english'), ('english', 'literatures'), ('literatures', 'impact'), ('impact', 'in'), ('in', 'urban'), ('urban', 'culture'), ('culture', 'the'), ('the', 'english'), ('english', 'historical'), ('historical', 'review'), ('review', 'vol'), ('vol', 'no'), ('no', 'pp'), ('pp', 'williams'), ('williams', 'e'), ('e', 'women'), ('women', 'in'), ('in', 'literature'), ('literature', 'limitations'), ('limitations', 'and'), ('and', 'power'), ('power', 'writers'), ('writers', 'digest'), ('digest', 'vel'), ('vel', 'no'), ('no', 'pp'), ('pp', 'conferences'), ('conferences', 'attendance'), ('attendance', 'urban'), ('urban', 'writing'), ('writing', 'vs'), ('vs', 'classical'), ('classical', 'approach'), ('approach', 'fundamentals'), ('fundamentals', 'of'), ('of', 'contemporary'), ('contemporary', 'writing'), ('writing', 'literature'), ('literature', 'in'), ('in', 'business'), ('business', 'then'), ('then', 'and'), ('and', 'now'), ('now', 'english'), ('english', 'and'), ('and', 'culture'), ('culture', 'honours'), ('honours', 'and'), ('and', 'awards'), ('awards', 'london'), ('london', 'writers'), ('writers', 'awards'), ('awards', 'literary'), ('literary', 'fiction'), ('fiction', 'the'), ('the', 'john'), ('john', 'and'), ('and', 'patricia'), ('patricia', 'beatty'), ('beatty', 'award'), ('award', 'professional'), ('professional', 'affiliations'), ('affiliations', 'contemporary'), ('contemporary', 'writers'), ('writers', 'authors'), ('authors', 'licensing'), ('licensing', 'and'), ('and', 'collecting'), ('collecting', 'society'), ('society', 'present'), ('present', 'modern'), ('modern', 'humanities'), ('humanities', 'research'), ('research', 'association'), ('association', 'certifications'), ('certifications', 'qualified'), ('qualified', 'teacher'), ('teacher', 'status'), ('status', 'qts'), ('qts', 'teaching'), ('teaching', 'experience'), ('experience', 'digital'), ('digital', 'rhetoric'), ('rhetoric', 'royal'), ('royal', 'holloway'), ('holloway', 'university'), ('university', 'composition'), ('composition', 'studies'), ('studies', 'london'), ('london', 'metropolitan'), ('metropolitan', 'university'), ('university', 'english'), ('english', 'literature'), ('literature', 'university'), ('university', 'of'), ('of', 'london'), ('london', 'professional'), ('professional', 'relevant'), ('relevant', 'skills'), ('skills', 'libreoffice'), ('libreoffice', 'ms'), ('ms', 'office'), ('office', 'including'), ('including', 'word'), ('word', 'and'), ('and', 'powerpoint'), ('powerpoint', 'content'), ('content', 'management'), ('management', 'systems'), ('systems', 'cms'), ('cms', 'adobe'), ('adobe', 'photoshop'), ('photoshop', 'hobbies'), ('hobbies', 'and'), ('and', 'interests'), ('interests', 'digital'), ('digital', 'photography'), ('photography', 'volunteer'), ('volunteer', 'art'), ('art', 'tutor'), ('tutor', 'for'), ('for', 'young'), ('young', 'adults'), ('adults', 'in'), ('in', 'community'), ('community', 'centre'), ('centre', 'portfolio'), ('portfolio', 'gradstudentexamplecom')]\n",
      "\n",
      " trigrams\n",
      "\n",
      "[('personal', 'statement', 'dedicated'), ('statement', 'dedicated', 'graduated'), ('dedicated', 'graduated', 'student'), ('graduated', 'student', 'bringing'), ('student', 'bringing', 'proven'), ('bringing', 'proven', 'success'), ('proven', 'success', 'in'), ('success', 'in', 'implementing'), ('in', 'implementing', 'innovation'), ('implementing', 'innovation', 'writing'), ('innovation', 'writing', 'techniques'), ('writing', 'techniques', 'and'), ('techniques', 'and', 'assessment'), ('and', 'assessment', 'tools'), ('assessment', 'tools', 'passionate'), ('tools', 'passionate', 'about'), ('passionate', 'about', 'fostering'), ('about', 'fostering', 'creativity'), ('fostering', 'creativity', 'academic'), ('creativity', 'academic', 'development'), ('academic', 'development', 'and'), ('development', 'and', 'professional'), ('and', 'professional', 'success'), ('professional', 'success', 'collaborative'), ('success', 'collaborative', 'team'), ('collaborative', 'team', 'player'), ('team', 'player', 'possessing'), ('player', 'possessing', 'impeccable'), ('possessing', 'impeccable', 'grammar'), ('impeccable', 'grammar', 'skilled'), ('grammar', 'skilled', 'at'), ('skilled', 'at', 'explaining'), ('at', 'explaining', 'material'), ('explaining', 'material', 'and'), ('material', 'and', 'concepts'), ('and', 'concepts', 'to'), ('concepts', 'to', 'address'), ('to', 'address', 'varied'), ('address', 'varied', 'markets'), ('varied', 'markets', 'and'), ('markets', 'and', 'modalities'), ('and', 'modalities', 'core'), ('modalities', 'core', 'qualifications'), ('core', 'qualifications', 'content'), ('qualifications', 'content', 'creation'), ('content', 'creation', 'academic'), ('creation', 'academic', 'advisement'), ('academic', 'advisement', 'proofreading'), ('advisement', 'proofreading', 'public'), ('proofreading', 'public', 'opinion'), ('public', 'opinion', 'understanding'), ('opinion', 'understanding', 'creative'), ('understanding', 'creative', 'teaching'), ('creative', 'teaching', 'techniques'), ('teaching', 'techniques', 'digital'), ('techniques', 'digital', 'media'), ('digital', 'media', 'assertive'), ('media', 'assertive', 'multitasking'), ('assertive', 'multitasking', 'abilities'), ('multitasking', 'abilities', 'education'), ('abilities', 'education', 'royal'), ('education', 'royal', 'college'), ('royal', 'college', 'of'), ('college', 'of', 'arts'), ('of', 'arts', 'england'), ('arts', 'england', 'expected'), ('england', 'expected', 'in'), ('expected', 'in', 'phd'), ('in', 'phd', 'arts'), ('phd', 'arts', 'and'), ('arts', 'and', 'humanities'), ('and', 'humanities', 'london'), ('humanities', 'london', 'metropolitan'), ('london', 'metropolitan', 'university'), ('metropolitan', 'university', 'london'), ('university', 'london', 'post'), ('london', 'post', 'masters'), ('post', 'masters', 'certificate'), ('masters', 'certificate', 'education'), ('certificate', 'education', 'london'), ('education', 'london', 'metropolitan'), ('london', 'metropolitan', 'university'), ('metropolitan', 'university', 'england'), ('university', 'england', 'master'), ('england', 'master', 'of'), ('master', 'of', 'arts'), ('of', 'arts', 'creative'), ('arts', 'creative', 'digital'), ('creative', 'digital', 'and'), ('digital', 'and', 'professional'), ('and', 'professional', 'writing'), ('professional', 'writing', 'university'), ('writing', 'university', 'of'), ('university', 'of', 'london'), ('of', 'london', 'england'), ('london', 'england', 'bachelor'), ('england', 'bachelor', 'of'), ('bachelor', 'of', 'arts'), ('of', 'arts', 'english'), ('arts', 'english', 'minor'), ('english', 'minor', 'in'), ('minor', 'in', 'communication'), ('in', 'communication', 'work'), ('communication', 'work', 'experience'), ('work', 'experience', 'lecturer'), ('experience', 'lecturer', 'in'), ('lecturer', 'in', 'creative'), ('in', 'creative', 'writing'), ('creative', 'writing', 'fiction'), ('writing', 'fiction', 'royal'), ('fiction', 'royal', 'holloway'), ('royal', 'holloway', 'university'), ('holloway', 'university', 'of'), ('university', 'of', 'london'), ('of', 'london', 'egham'), ('london', 'egham', 'england'), ('egham', 'england', 'current'), ('england', 'current', 'marked'), ('current', 'marked', 'quizzes'), ('marked', 'quizzes', 'tests'), ('quizzes', 'tests', 'homework'), ('tests', 'homework', 'and'), ('homework', 'and', 'projects'), ('and', 'projects', 'for'), ('projects', 'for', 'students'), ('for', 'students', 'to'), ('students', 'to', 'provide'), ('to', 'provide', 'timely'), ('provide', 'timely', 'academic'), ('timely', 'academic', 'progress'), ('academic', 'progress', 'information'), ('progress', 'information', 'and'), ('information', 'and', 'feedback'), ('and', 'feedback', 'encouraged'), ('feedback', 'encouraged', 'class'), ('encouraged', 'class', 'discussions'), ('class', 'discussions', 'by'), ('discussions', 'by', 'building'), ('by', 'building', 'debates'), ('building', 'debates', 'per'), ('debates', 'per', 'month'), ('per', 'month', 'into'), ('month', 'into', 'lessons'), ('into', 'lessons', 'actively'), ('lessons', 'actively', 'soliciting'), ('actively', 'soliciting', 'input'), ('soliciting', 'input', 'asking'), ('input', 'asking', 'openended'), ('asking', 'openended', 'questions'), ('openended', 'questions', 'and'), ('questions', 'and', 'using'), ('and', 'using', 'techniques'), ('using', 'techniques', 'to'), ('techniques', 'to', 'track'), ('to', 'track', 'student'), ('track', 'student', 'participation'), ('student', 'participation', 'used'), ('participation', 'used', 'a'), ('used', 'a', 'variety'), ('a', 'variety', 'of'), ('variety', 'of', 'creative'), ('of', 'creative', 'learning'), ('creative', 'learning', 'modalities'), ('learning', 'modalities', 'and'), ('modalities', 'and', 'support'), ('and', 'support', 'materials'), ('support', 'materials', 'to'), ('materials', 'to', 'facilitate'), ('to', 'facilitate', 'learning'), ('facilitate', 'learning', 'process'), ('learning', 'process', 'and'), ('process', 'and', 'accentuate'), ('and', 'accentuate', 'up'), ('accentuate', 'up', 'to'), ('up', 'to', 'presentations'), ('to', 'presentations', 'per'), ('presentations', 'per', 'term'), ('per', 'term', 'staff'), ('term', 'staff', 'writer'), ('staff', 'writer', 'and'), ('writer', 'and', 'content'), ('and', 'content', 'creator'), ('content', 'creator', 'fever'), ('creator', 'fever', 'london'), ('fever', 'london', 'england'), ('london', 'england', 'edited'), ('england', 'edited', 'creative'), ('edited', 'creative', 'projects'), ('creative', 'projects', 'and'), ('projects', 'and', 'offered'), ('and', 'offered', 'feedback'), ('offered', 'feedback', 'developed'), ('feedback', 'developed', 'informative'), ('developed', 'informative', 'yet'), ('informative', 'yet', 'entertaining'), ('yet', 'entertaining', 'blog'), ('entertaining', 'blog', 'posts'), ('blog', 'posts', 'that'), ('posts', 'that', 'boosted'), ('that', 'boosted', 'visitors'), ('boosted', 'visitors', 'to'), ('visitors', 'to', 'website'), ('to', 'website', 'by'), ('website', 'by', 'within'), ('by', 'within', 'three'), ('within', 'three', 'months'), ('three', 'months', 'helped'), ('months', 'helped', 'shape'), ('helped', 'shape', 'narrative'), ('shape', 'narrative', 'on'), ('narrative', 'on', 'key'), ('on', 'key', 'issues'), ('key', 'issues', 'through'), ('issues', 'through', 'effective'), ('through', 'effective', 'storytelling'), ('effective', 'storytelling', 'and'), ('storytelling', 'and', 'knowledge'), ('and', 'knowledge', 'of'), ('knowledge', 'of', 'public'), ('of', 'public', 'opinion'), ('public', 'opinion', 'copywriter'), ('opinion', 'copywriter', 'brand'), ('copywriter', 'brand', 'creative'), ('brand', 'creative', 'ph'), ('creative', 'ph', 'creative'), ('ph', 'creative', 'london'), ('creative', 'london', 'england'), ('london', 'england', 'provided'), ('england', 'provided', 'editorial'), ('provided', 'editorial', 'guidance'), ('editorial', 'guidance', 'to'), ('guidance', 'to', 'marketing'), ('to', 'marketing', 'team'), ('marketing', 'team', 'devoted'), ('team', 'devoted', 'to'), ('devoted', 'to', 'delivery'), ('to', 'delivery', 'of'), ('delivery', 'of', 'topquality'), ('of', 'topquality', 'content'), ('topquality', 'content', 'authored'), ('content', 'authored', 'online'), ('authored', 'online', 'copy'), ('online', 'copy', 'for'), ('copy', 'for', 'ads'), ('for', 'ads', 'displays'), ('ads', 'displays', 'providing'), ('displays', 'providing', 'click'), ('providing', 'click', 'conversion'), ('click', 'conversion', 'rates'), ('conversion', 'rates', 'of'), ('rates', 'of', 'for'), ('of', 'for', 'leads'), ('for', 'leads', 'generation'), ('leads', 'generation', 'landing'), ('generation', 'landing', 'page'), ('landing', 'page', 'participated'), ('page', 'participated', 'in'), ('participated', 'in', 'internal'), ('in', 'internal', 'interdisciplinary'), ('internal', 'interdisciplinary', 'efforts'), ('interdisciplinary', 'efforts', 'to'), ('efforts', 'to', 'produce'), ('to', 'produce', 'deliverables'), ('produce', 'deliverables', 'featuring'), ('deliverables', 'featuring', 'diverse'), ('featuring', 'diverse', 'media'), ('diverse', 'media', 'content'), ('media', 'content', 'research'), ('content', 'research', 'experience'), ('research', 'experience', 'explored'), ('experience', 'explored', 'and'), ('explored', 'and', 'analysed'), ('and', 'analysed', 'ethics'), ('analysed', 'ethics', 'in'), ('ethics', 'in', 'the'), ('in', 'the', 'publishing'), ('the', 'publishing', 'system'), ('publishing', 'system', 'in'), ('system', 'in', 'the'), ('in', 'the', 'authors'), ('the', 'authors', 'property'), ('authors', 'property', 'worked'), ('property', 'worked', 'and'), ('worked', 'and', 'participated'), ('and', 'participated', 'in'), ('participated', 'in', 'thesis'), ('in', 'thesis', 'assessment'), ('thesis', 'assessment', 'as'), ('assessment', 'as', 'research'), ('as', 'research', 'lead'), ('research', 'lead', 'in'), ('lead', 'in', 'the'), ('in', 'the', 'impact'), ('the', 'impact', 'of'), ('impact', 'of', 'english'), ('of', 'english', 'literature'), ('english', 'literature', 'in'), ('literature', 'in', 'contemporary'), ('in', 'contemporary', 'culture'), ('contemporary', 'culture', 'developed'), ('culture', 'developed', 'research'), ('developed', 'research', 'statements'), ('research', 'statements', 'and'), ('statements', 'and', 'ran'), ('and', 'ran', 'surveys'), ('ran', 'surveys', 'and'), ('surveys', 'and', 'interviews'), ('and', 'interviews', 'as'), ('interviews', 'as', 'research'), ('as', 'research', 'assistant'), ('research', 'assistant', 'in'), ('assistant', 'in', 'the'), ('in', 'the', 'writers'), ('the', 'writers', 'role'), ('writers', 'role', 'in'), ('role', 'in', 'literature'), ('in', 'literature', 'publications'), ('literature', 'publications', 'williams'), ('publications', 'williams', 'ella'), ('williams', 'ella', 'culturediversity'), ('ella', 'culturediversity', 'and'), ('culturediversity', 'and', 'english'), ('and', 'english', 'st'), ('english', 'st', 'ed'), ('st', 'ed', 'vol'), ('ed', 'vol', 'california'), ('vol', 'california', 'fulton'), ('california', 'fulton', 'books'), ('fulton', 'books', 'williams'), ('books', 'williams', 'e'), ('williams', 'e', 'an'), ('e', 'an', 'historical'), ('an', 'historical', 'review'), ('historical', 'review', 'of'), ('review', 'of', 'the'), ('of', 'the', 'english'), ('the', 'english', 'literatures'), ('english', 'literatures', 'impact'), ('literatures', 'impact', 'in'), ('impact', 'in', 'urban'), ('in', 'urban', 'culture'), ('urban', 'culture', 'the'), ('culture', 'the', 'english'), ('the', 'english', 'historical'), ('english', 'historical', 'review'), ('historical', 'review', 'vol'), ('review', 'vol', 'no'), ('vol', 'no', 'pp'), ('no', 'pp', 'williams'), ('pp', 'williams', 'e'), ('williams', 'e', 'women'), ('e', 'women', 'in'), ('women', 'in', 'literature'), ('in', 'literature', 'limitations'), ('literature', 'limitations', 'and'), ('limitations', 'and', 'power'), ('and', 'power', 'writers'), ('power', 'writers', 'digest'), ('writers', 'digest', 'vel'), ('digest', 'vel', 'no'), ('vel', 'no', 'pp'), ('no', 'pp', 'conferences'), ('pp', 'conferences', 'attendance'), ('conferences', 'attendance', 'urban'), ('attendance', 'urban', 'writing'), ('urban', 'writing', 'vs'), ('writing', 'vs', 'classical'), ('vs', 'classical', 'approach'), ('classical', 'approach', 'fundamentals'), ('approach', 'fundamentals', 'of'), ('fundamentals', 'of', 'contemporary'), ('of', 'contemporary', 'writing'), ('contemporary', 'writing', 'literature'), ('writing', 'literature', 'in'), ('literature', 'in', 'business'), ('in', 'business', 'then'), ('business', 'then', 'and'), ('then', 'and', 'now'), ('and', 'now', 'english'), ('now', 'english', 'and'), ('english', 'and', 'culture'), ('and', 'culture', 'honours'), ('culture', 'honours', 'and'), ('honours', 'and', 'awards'), ('and', 'awards', 'london'), ('awards', 'london', 'writers'), ('london', 'writers', 'awards'), ('writers', 'awards', 'literary'), ('awards', 'literary', 'fiction'), ('literary', 'fiction', 'the'), ('fiction', 'the', 'john'), ('the', 'john', 'and'), ('john', 'and', 'patricia'), ('and', 'patricia', 'beatty'), ('patricia', 'beatty', 'award'), ('beatty', 'award', 'professional'), ('award', 'professional', 'affiliations'), ('professional', 'affiliations', 'contemporary'), ('affiliations', 'contemporary', 'writers'), ('contemporary', 'writers', 'authors'), ('writers', 'authors', 'licensing'), ('authors', 'licensing', 'and'), ('licensing', 'and', 'collecting'), ('and', 'collecting', 'society'), ('collecting', 'society', 'present'), ('society', 'present', 'modern'), ('present', 'modern', 'humanities'), ('modern', 'humanities', 'research'), ('humanities', 'research', 'association'), ('research', 'association', 'certifications'), ('association', 'certifications', 'qualified'), ('certifications', 'qualified', 'teacher'), ('qualified', 'teacher', 'status'), ('teacher', 'status', 'qts'), ('status', 'qts', 'teaching'), ('qts', 'teaching', 'experience'), ('teaching', 'experience', 'digital'), ('experience', 'digital', 'rhetoric'), ('digital', 'rhetoric', 'royal'), ('rhetoric', 'royal', 'holloway'), ('royal', 'holloway', 'university'), ('holloway', 'university', 'composition'), ('university', 'composition', 'studies'), ('composition', 'studies', 'london'), ('studies', 'london', 'metropolitan'), ('london', 'metropolitan', 'university'), ('metropolitan', 'university', 'english'), ('university', 'english', 'literature'), ('english', 'literature', 'university'), ('literature', 'university', 'of'), ('university', 'of', 'london'), ('of', 'london', 'professional'), ('london', 'professional', 'relevant'), ('professional', 'relevant', 'skills'), ('relevant', 'skills', 'libreoffice'), ('skills', 'libreoffice', 'ms'), ('libreoffice', 'ms', 'office'), ('ms', 'office', 'including'), ('office', 'including', 'word'), ('including', 'word', 'and'), ('word', 'and', 'powerpoint'), ('and', 'powerpoint', 'content'), ('powerpoint', 'content', 'management'), ('content', 'management', 'systems'), ('management', 'systems', 'cms'), ('systems', 'cms', 'adobe'), ('cms', 'adobe', 'photoshop'), ('adobe', 'photoshop', 'hobbies'), ('photoshop', 'hobbies', 'and'), ('hobbies', 'and', 'interests'), ('and', 'interests', 'digital'), ('interests', 'digital', 'photography'), ('digital', 'photography', 'volunteer'), ('photography', 'volunteer', 'art'), ('volunteer', 'art', 'tutor'), ('art', 'tutor', 'for'), ('tutor', 'for', 'young'), ('for', 'young', 'adults'), ('young', 'adults', 'in'), ('adults', 'in', 'community'), ('in', 'community', 'centre'), ('community', 'centre', 'portfolio'), ('centre', 'portfolio', 'gradstudentexamplecom')]\n"
     ]
    }
   ],
   "source": [
    "from nltk.util import bigrams, trigrams\n",
    "# allows us to get the most common words that are used together\n",
    "sen = letnum_text\n",
    "nltk_tokens = word_tokenize(sen) #using tokenize from NLKT and not split() because split() does not take into account punctuation\n",
    "Counter=0\n",
    "#splitting sentence into bigrams and trigrams\n",
    "print(\"bigrams\\n\")\n",
    "print(list(bigrams(nltk_tokens)))\n",
    "print(\"\\n trigrams\\n\")\n",
    "print(list(trigrams(nltk_tokens)))"
   ]
  },
  {
   "cell_type": "code",
   "execution_count": 21,
   "id": "ae5fa1cd",
   "metadata": {},
   "outputs": [
    {
     "data": {
      "image/png": "[encoded data removed]",
      "text/plain": [
       "<Figure size 432x288 with 1 Axes>"
      ]
     },
     "metadata": {
      "needs_background": "light"
     },
     "output_type": "display_data"
    }
   ],
   "source": [
    "import matplotlib.pyplot as plt\n",
    "# allows us to create a graph showing the most common words\n",
    "fdist.plot(20,cumulative=False)\n",
    "plt.show()"
   ]
  },
  {
   "cell_type": "code",
   "execution_count": null,
   "id": "bea380de",
   "metadata": {},
   "outputs": [],
   "source": []
  }
 ],
 "metadata": {
  "kernelspec": {
   "display_name": "Python 3 (ipykernel)",
   "language": "python",
   "name": "python3"
  },
  "language_info": {
   "codemirror_mode": {
    "name": "ipython",
    "version": 3
   },
   "file_extension": ".py",
   "mimetype": "text/x-python",
   "name": "python",
   "nbconvert_exporter": "python",
   "pygments_lexer": "ipython3",
   "version": "3.9.7"
  }
 },
 "nbformat": 4,
 "nbformat_minor": 5
}

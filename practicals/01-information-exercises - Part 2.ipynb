{
 "cells": [
  {
   "cell_type": "code",
   "execution_count": 12,
   "id": "19954906",
   "metadata": {},
   "outputs": [
    {
     "name": "stdout",
     "output_type": "stream",
     "text": [
      "1.0\n"
     ]
    }
   ],
   "source": [
    "# Mathematical function\n",
    "import math\n",
    "print (-math.log(0.5, 2))"
   ]
  },
  {
   "cell_type": "code",
   "execution_count": 13,
   "id": "02d70e0c",
   "metadata": {},
   "outputs": [
    {
     "name": "stdout",
     "output_type": "stream",
     "text": [
      "2.0\n"
     ]
    }
   ],
   "source": [
    "print (-math.log(0.25, 2))"
   ]
  },
  {
   "cell_type": "code",
   "execution_count": 14,
   "id": "046db594",
   "metadata": {},
   "outputs": [
    {
     "name": "stdout",
     "output_type": "stream",
     "text": [
      "0.4150374992788438\n"
     ]
    }
   ],
   "source": [
    "print (-math.log(0.75, 2))"
   ]
  },
  {
   "cell_type": "code",
   "execution_count": 15,
   "id": "f6dffdc2",
   "metadata": {},
   "outputs": [
    {
     "data": {
      "text/plain": [
       "1.0"
      ]
     },
     "execution_count": 15,
     "metadata": {},
     "output_type": "execute_result"
    }
   ],
   "source": [
    "# [Probability of a 0, probability of a 1]\n",
    "p = [0.5, 0.5]\n",
    "-sum([p_i * math.log (p_i, 2) for p_i in p])"
   ]
  },
  {
   "cell_type": "code",
   "execution_count": 16,
   "id": "223997db",
   "metadata": {},
   "outputs": [
    {
     "data": {
      "text/plain": [
       "0.8112781244591328"
      ]
     },
     "execution_count": 16,
     "metadata": {},
     "output_type": "execute_result"
    }
   ],
   "source": [
    "# [Probability of a 0, probability of a 1]\n",
    "p = [0.75, 0.25]\n",
    "-sum([p_i * math.log (p_i, 2) for p_i in p])"
   ]
  },
  {
   "cell_type": "code",
   "execution_count": 17,
   "id": "f3137f92",
   "metadata": {},
   "outputs": [
    {
     "data": {
      "image/png": "[encoded data removed]",
      "text/plain": [
       "<Figure size 1008x432 with 1 Axes>"
      ]
     },
     "metadata": {
      "needs_background": "light"
     },
     "output_type": "display_data"
    }
   ],
   "source": [
    "# Plotting \n",
    "import matplotlib.pyplot as plt \n",
    "\n",
    "# numerical calculations\n",
    "import numpy as np\n",
    "\n",
    "# A range of possible p values.\n",
    "# We have to avoid 0.0 and 1.0 because of the Log.\n",
    "p_of_1 = np.linspace (0.01, 0.99, 1000)\n",
    "\n",
    "# Calculate the entropy.\n",
    "entropy = - (p_of_1 * np.log2(p_of_1) + (1.0 - p_of_1) * np.log2(1.0 - p_of_1))\n",
    "\n",
    "# Create the actual plot.\n",
    "fig, ax = plt.subplots(figsize=(14, 6))\n",
    "ax.plot(p_of_1, entropy, color='#ff791e')\n",
    "\n",
    "# Label the axes.\n",
    "ax.set_xlabel('Probability the bit is 1, not 0.')\n",
    "ax.set_ylabel('Entropy');"
   ]
  },
  {
   "cell_type": "code",
   "execution_count": 18,
   "id": "55af3b08",
   "metadata": {},
   "outputs": [
    {
     "data": {
      "text/plain": [
       "525600"
      ]
     },
     "execution_count": 18,
     "metadata": {},
     "output_type": "execute_result"
    }
   ],
   "source": [
    "#Minutes in a (non-Leap) year.\n",
    "\n",
    "mins_in_year = 365 * 24 * 60\n",
    "mins_in_year"
   ]
  },
  {
   "cell_type": "code",
   "execution_count": 19,
   "id": "21dc3cd2",
   "metadata": {},
   "outputs": [
    {
     "name": "stdout",
     "output_type": "stream",
     "text": [
      "1.9025875190258754e-05\n"
     ]
    }
   ],
   "source": [
    "#Probability of it screeching.\n",
    "p_screech = 10 / 525600\n",
    "print (p_screech)\n"
   ]
  },
  {
   "cell_type": "code",
   "execution_count": 20,
   "id": "aac2056e",
   "metadata": {},
   "outputs": [
    {
     "data": {
      "text/plain": [
       "15.681677655209693"
      ]
     },
     "execution_count": 20,
     "metadata": {},
     "output_type": "execute_result"
    }
   ],
   "source": [
    "#Information content of a screech.\n",
    "-math.log(p_screech, 2)"
   ]
  },
  {
   "cell_type": "code",
   "execution_count": 21,
   "id": "0255a7e8",
   "metadata": {},
   "outputs": [
    {
     "data": {
      "text/plain": [
       "2.744879690499961e-05"
      ]
     },
     "execution_count": 21,
     "metadata": {},
     "output_type": "execute_result"
    }
   ],
   "source": [
    "#Information content of no screech.\n",
    "-math.log(1.0 - p_screech, 2)"
   ]
  },
  {
   "cell_type": "code",
   "execution_count": 22,
   "id": "11967953",
   "metadata": {},
   "outputs": [
    {
     "name": "stdout",
     "output_type": "stream",
     "text": [
      "0.00032580591650950477 bits\n"
     ]
    }
   ],
   "source": [
    "#Entropy of the fire alarm as a source of information.\n",
    "p = [p_screech, 1.0 - p_screech]\n",
    "entropy = -sum ([p_i * math.log(p_i, 2) for p_i in p])\n",
    "print (f'{entropy} bits')"
   ]
  },
  {
   "cell_type": "code",
   "execution_count": 23,
   "id": "5e7eed19",
   "metadata": {},
   "outputs": [
    {
     "data": {
      "text/plain": [
       "13.287712379549449"
      ]
     },
     "execution_count": 23,
     "metadata": {},
     "output_type": "execute_result"
    }
   ],
   "source": [
    "# A four digit PIN has 10,000 possible values.\n",
    "-math.log(1.0/10000.0, 2)"
   ]
  },
  {
   "cell_type": "code",
   "execution_count": 24,
   "id": "c1dbe4e2",
   "metadata": {},
   "outputs": [
    {
     "name": "stdout",
     "output_type": "stream",
     "text": [
      "13.28771237954811 bits\n"
     ]
    }
   ],
   "source": [
    "#Entropy of a four-digit PIN code.\n",
    "p = [1.0/ 10000.0 for i in range(10000)]\n",
    "entropy = -sum([p_i* math.log(p_i, 2) for p_i in p])\n",
    "print(f'{entropy} bits')"
   ]
  },
  {
   "cell_type": "code",
   "execution_count": 25,
   "id": "fd0a5066",
   "metadata": {},
   "outputs": [
    {
     "name": "stdout",
     "output_type": "stream",
     "text": [
      "2.126454562499694 bits\n"
     ]
    }
   ],
   "source": [
    "#Entropy of a six-digit PIN code.\n",
    "p = [1.0/11000000.0 for i in range(1000000)]\n",
    "entropy = -sum ([p_i* math.log(p_i, 2) for p_i in p])\n",
    "print (f'{entropy} bits')"
   ]
  },
  {
   "cell_type": "code",
   "execution_count": null,
   "id": "85eca21e",
   "metadata": {},
   "outputs": [],
   "source": []
  },
  {
   "cell_type": "code",
   "execution_count": null,
   "id": "58654e17",
   "metadata": {},
   "outputs": [],
   "source": []
  }
 ],
 "metadata": {
  "kernelspec": {
   "display_name": "Python 3 (ipykernel)",
   "language": "python",
   "name": "python3"
  },
  "language_info": {
   "codemirror_mode": {
    "name": "ipython",
    "version": 3
   },
   "file_extension": ".py",
   "mimetype": "text/x-python",
   "name": "python",
   "nbconvert_exporter": "python",
   "pygments_lexer": "ipython3",
   "version": "3.9.7"
  }
 },
 "nbformat": 4,
 "nbformat_minor": 5
}

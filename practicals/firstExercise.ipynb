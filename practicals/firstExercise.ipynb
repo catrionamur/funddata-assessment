{
 "cells": [
  {
   "cell_type": "code",
   "execution_count": 2,
   "id": "b8e387b7",
   "metadata": {},
   "outputs": [],
   "source": [
    "# Make HTTP requests for internet reqources.\n",
    "import urllib.request\n",
    "import random\n",
    "\n",
    "# The URL of a text version of Alice in Wonderland.\n",
    "book_url = 'https://www.gutenberg.org/files/11/11-0.txt'\n",
    "\n",
    "# Get the book.\n",
    "book = list(urllib.request.urlopen(book_url))\n",
    "\n",
    "# Decode the lines and strip line endings.\n",
    "book = [line.decode('utf-8-sig').strip() for line in book]\n",
    "# Get the whole book in one big string.\n",
    "sbook = ''.join(book[26:]).lower()\n"
   ]
  },
  {
   "cell_type": "code",
   "execution_count": 6,
   "id": "d67b25b2",
   "metadata": {},
   "outputs": [
    {
     "name": "stdout",
     "output_type": "stream",
     "text": [
      " lure toueathemenou ddrer f wan ll  oo h cthe athe hulabe is sitcen t pofo o ache ted t ame s jurne hicth inthinis oke a ve th asterepo wait owowojuso tithean lincovergert imere tr wot meocl s the us th verlos te y our t alas phe s and t onue e ik y dayo u ingeve om ghe sthe tor alin s meride ma at then as t d r cl othif hewill geshan kithend lf hease  no wne an asuzzy ory omithe tsen ingh to souny bus t in t it quss ach a ai cof he ingu aichadoi qun mase a d t d ly t we t y an ica it n nbuthok asan as m eamond veng k c vers molls  te oll rou the hennerstust he t isint taver of l in to in wany trou tible heaig ld rang het n an ok ton m perat s br ore equly pr the tou boor iet nt s s ttlithedlde we her ato hed p te abo alinceand h ng aiches at the hen lwo isha cam ie o lthee st t rst ve f at ilice hy astrye e pamay ry but ato a r kin be t tt mes anert h il pt t om cedous squthack win n wary nd tm ma ag babrth m t asalithe d chiren t the lland wasore nghe u iovityocke sueline wa ar h t t\n"
     ]
    }
   ],
   "source": [
    "chars = ' abcdefghijklmnopqrstuvwxyz '\n",
    "N=1000\n",
    "# Create the weights.\n",
    "twoghts = {c: {d: sbook.count(c + d) for d in chars} for c in chars}\n",
    "# Start with space.\n",
    "pairs = ' '\n",
    "# Do the following N-1 times.\n",
    "for i in range(1, N):\n",
    "    # Get the weights where the previous character is the last character in twos.\n",
    "    wt = twoghts[pairs[-1]] \n",
    "   # wt = twoghts[len(pairs)-2:]\n",
    "    # Turn wt into a list, ordered by chars.\n",
    "    wt = [wt[c] for c in chars]\n",
    "    # Randomly pick the next character using those weights.\n",
    "    nextc = random.choices(chars, weights=wt, k=1)[0]\n",
    "    # Append the character to twos.\n",
    "    pairs = pairs + nextc\n",
    "print (pairs)"
   ]
  },
  {
   "cell_type": "code",
   "execution_count": null,
   "id": "a5cf7823",
   "metadata": {},
   "outputs": [],
   "source": []
  },
  {
   "cell_type": "code",
   "execution_count": null,
   "id": "499f52eb",
   "metadata": {},
   "outputs": [],
   "source": []
  }
 ],
 "metadata": {
  "kernelspec": {
   "display_name": "Python 3 (ipykernel)",
   "language": "python",
   "name": "python3"
  },
  "language_info": {
   "codemirror_mode": {
    "name": "ipython",
    "version": 3
   },
   "file_extension": ".py",
   "mimetype": "text/x-python",
   "name": "python",
   "nbconvert_exporter": "python",
   "pygments_lexer": "ipython3",
   "version": "3.9.7"
  }
 },
 "nbformat": 4,
 "nbformat_minor": 5
}

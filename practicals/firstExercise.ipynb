{
 "cells": [
  {
   "cell_type": "code",
   "execution_count": 2,
   "id": "b8e387b7",
   "metadata": {},
   "outputs": [],
   "source": [
    "# Generate a 1000 character long string with weights based on the previous two characters\n",
    "# Make HTTP requests for internet reqources.\n",
    "import urllib.request\n",
    "import random\n",
    "\n",
    "# The URL of a text version of Alice in Wonderland.\n",
    "book_url = 'https://www.gutenberg.org/files/11/11-0.txt'\n",
    "\n",
    "# Get the book.\n",
    "book = list(urllib.request.urlopen(book_url))\n",
    "\n",
    "# Decode the lines and strip line endings.\n",
    "book = [line.decode('utf-8-sig').strip() for line in book]\n",
    "# Get the whole book in one big string.\n",
    "sbook = ''.join(book[26:]).lower()\n"
   ]
  },
  {
   "cell_type": "code",
   "execution_count": 3,
   "id": "d67b25b2",
   "metadata": {},
   "outputs": [
    {
     "name": "stdout",
     "output_type": "stream",
     "text": [
      " aly dl shrme twalfout cutl lint f d hurere al it m mp s rtl owhlitherson h ay iben f wit s wa imit i g f rg o cthe fuomy f at sok s h aiuperd wind teerg bbuthem yiche ucthad henghere rt hevemoxtinvethigstubu o shet wo k taf ice f s a thabead ave thouthendof ad she theruso bo on wime ptithaimar ithe u folf t f ofowhe litas es gom a ivexe cenly t th i yomfo iner oul nt kyot hampofat whe y s wof y citen an in wcogatlle te ang oner  d alyo rmulesot t a ten p acsh   articurkevi win t ave g withango fo win f rermongr theg s we go in in t wousk sa wat d ad pe shstlidshai ariton i tubas ssparo th t walo t he fond isof s won aso ilfff tok ad aghe tton t cand im tth the t he mongothe w py mut wok an g f bbitg athok fealy ti fimaby snoo t me r mowibs m g t oy ee rk wdout id hey y t toto ifeslat waly s g opp spleate ane t lided wo  s h tlf ay onle coneromuge ay to gr s inlin d ond g thegantly so porng therenl a ng t ad aley sthe t w eat doce ay p n thaing a thisuturs ory e uthaid ts y aye t he be\n"
     ]
    }
   ],
   "source": [
    "chars = ' abcdefghijklmnopqrstuvwxyz '\n",
    "# set the string length to 1000\n",
    "N=1000 \n",
    "# Create the weights.\n",
    "twoghts = {c: {d: sbook.count(c + d) for d in chars} for c in chars}\n",
    "# Start with space.\n",
    "pairs = ' '\n",
    "# Do the following N-1 times.\n",
    "for i in range(1, N):\n",
    "    # Get the weights where the previous character is the last character in twos.\n",
    "    wt = twoghts[pairs[-1]] \n",
    "   # wt = twoghts[len(pairs)-2:]\n",
    "    # Turn wt into a list, ordered by chars.\n",
    "    wt = [wt[c] for c in chars]\n",
    "    # Randomly pick the next character using those weights.\n",
    "    nextc = random.choices(chars, weights=wt, k=1)[0]\n",
    "    # Append the character to twos.\n",
    "    pairs = pairs + nextc\n",
    "print (pairs)"
   ]
  },
  {
   "cell_type": "code",
   "execution_count": null,
   "id": "a5cf7823",
   "metadata": {},
   "outputs": [],
   "source": []
  },
  {
   "cell_type": "code",
   "execution_count": null,
   "id": "499f52eb",
   "metadata": {},
   "outputs": [],
   "source": []
  }
 ],
 "metadata": {
  "kernelspec": {
   "display_name": "Python 3 (ipykernel)",
   "language": "python",
   "name": "python3"
  },
  "language_info": {
   "codemirror_mode": {
    "name": "ipython",
    "version": 3
   },
   "file_extension": ".py",
   "mimetype": "text/x-python",
   "name": "python",
   "nbconvert_exporter": "python",
   "pygments_lexer": "ipython3",
   "version": "3.9.7"
  }
 },
 "nbformat": 4,
 "nbformat_minor": 5
}

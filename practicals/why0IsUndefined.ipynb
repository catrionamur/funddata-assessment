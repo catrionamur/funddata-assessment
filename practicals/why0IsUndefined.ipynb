{
 "cells": [
  {
   "cell_type": "markdown",
   "id": "ed423303",
   "metadata": {},
   "source": [
    "<h1> Why is Log 0 undefined </h1>\n",
    "\n",
    "To explain why log of 0 is undefined we first must consider the following : <br>\n",
    "Log <sub> b </sub> <sup>a </sup>  where <sub> b </sub> = Base and <sup>a </sup> = argument <br>\n",
    "<br>To find log of any number there are a number of rules we must follow <br>\n",
    "<ol>\n",
    "    <li>Base > 1 , != 0 , != 1 , != -ve </li>\n",
    "    <li>Argument > 0</li>\n",
    "</ol>\n",
    "<h2>Change log to exponent</h2><br>\n",
    "Log <sub> b </sub> <sup>a </sup> = x so therefore a = b<sup>x</sup>\n",
    "\n",
    "<h2> Why can a base not be a 0 </h2><br>\n",
    "To understand why the base cannot be 0 , I explain with an example:\n",
    "\n",
    "Log <sub>0</sub><sup>2</sup> if we convert to exponent form we get 2 = 0<sup>x</sup> , so if we solve further we get 2=0 , that is not possible as 2 can never be = 0.\n",
    "\n",
    "<h2> Why can a base not be a 1</h2><br>\n",
    "What happens if we change it to log <sub> 1</sub><sup>2</sup>=x, again convert it to exponent form 2 = 1<sup>1</sup>, 1 to the power of something is 1, so therefore 2=1 is not possible \n",
    "\n",
    "<h2> Why can a base not be a negative number(-ve)</h2><br>\n",
    "Say if we take any negative number as the base and we set it to equal a fraction\n",
    "Log<sub>-3</sub><sup>a</sup>=<sup>1</sup>&frasl;<sub>2</sub> then convert to exponent form a = (-3) <sup><sup>1</sup>&frasl;<sub>2</sub></sup> = $\\sqrt{-3}$ this is not a real number its an imaginary number. So base cannot be equal to a negative form.\n",
    "\n",
    "<h2> Why an argument has to be greater 0 </h2>\n",
    "Given the above we can now understand why the argument cannot be equal to 0 .\n",
    "\n",
    "Log<sub>b</sub><sup>0</sup>=x <br>\n",
    "<br> 0 =(b)<sup>x</sup> unless base is a 0 , we can never solve this equation.  As from above we know that the base (b) value has to be greater than 0 .  So now we can say that log of 0 is undefined.\n"
   ]
  },
  {
   "cell_type": "code",
   "execution_count": null,
   "id": "68427dcd",
   "metadata": {},
   "outputs": [],
   "source": []
  },
  {
   "cell_type": "code",
   "execution_count": null,
   "id": "2801494b",
   "metadata": {},
   "outputs": [],
   "source": []
  },
  {
   "cell_type": "code",
   "execution_count": null,
   "id": "aaf78992",
   "metadata": {},
   "outputs": [],
   "source": []
  }
 ],
 "metadata": {
  "kernelspec": {
   "display_name": "Python 3 (ipykernel)",
   "language": "python",
   "name": "python3"
  },
  "language_info": {
   "codemirror_mode": {
    "name": "ipython",
    "version": 3
   },
   "file_extension": ".py",
   "mimetype": "text/x-python",
   "name": "python",
   "nbconvert_exporter": "python",
   "pygments_lexer": "ipython3",
   "version": "3.9.7"
  }
 },
 "nbformat": 4,
 "nbformat_minor": 5
}
